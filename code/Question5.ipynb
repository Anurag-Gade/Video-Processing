{
 "cells": [
  {
   "cell_type": "code",
   "execution_count": 1,
   "id": "7820e8b6",
   "metadata": {},
   "outputs": [],
   "source": [
    "#Importing the necessary libraries\n",
    "import numpy as np\n",
    "import cv2"
   ]
  },
  {
   "cell_type": "markdown",
   "id": "3b5ccf82",
   "metadata": {},
   "source": [
    "**2-dimensional Discrete Fourier Transform**"
   ]
  },
  {
   "cell_type": "code",
   "execution_count": 2,
   "id": "17e73397",
   "metadata": {},
   "outputs": [],
   "source": [
    "'''\n",
    "ANURAG GADE - 2020A3TS1337H\n",
    "QUESTION 5: 2-dimensional Discrete Fourier Transform (2D-DFT) \n",
    "'''\n",
    "\n",
    "#Specifying Paths\n",
    "input_path = 'assignment1_video.mp4'\n",
    "output_path = 'dft_2d.mp4'\n",
    "\n",
    "#VideoCapture object\n",
    "source = cv2.VideoCapture(input_path)\n",
    "\n",
    "#Parameters such as frames per second, window width, and window height\n",
    "fps = source.get(cv2.CAP_PROP_FPS) \n",
    "width = int(source.get(cv2.CAP_PROP_FRAME_WIDTH))\n",
    "height = int(source.get(cv2.CAP_PROP_FRAME_HEIGHT))\n",
    "\n",
    "#Four character code (fourcc) for .mp4 file format\n",
    "fourcc = cv2.VideoWriter_fourcc(*'mp4v')\n",
    "#VideoWriter object\n",
    "output = cv2.VideoWriter(output_path, fourcc, fps, (width, height), isColor = False) \n",
    "\n",
    "while True:\n",
    "    \n",
    "    ret, frame = source.read() \n",
    "    if not ret:\n",
    "        break\n",
    "        \n",
    "    gray = cv2.cvtColor(frame, cv2.COLOR_BGR2GRAY) #Converting BGR frame to grayscale \n",
    "    \n",
    "    #DFT computation of the grayscale frame\n",
    "    dft_image = cv2.dft(np.float32(gray), flags = cv2.DFT_COMPLEX_OUTPUT) \n",
    "    #Shifting the zero-frequency component to the center\n",
    "    dft_image_shift = np.fft.fftshift(dft_image) \n",
    "    #Computing the magnitude\n",
    "    magnitude = 20 * np.log(cv2.magnitude(dft_image_shift[:,:,0], dft_image_shift[:,:,1]))\n",
    "    #Scaling the magnitude\n",
    "    scaled_magnitude = cv2.normalize(magnitude, None, 0, 255, cv2.NORM_MINMAX, cv2.CV_8UC1)\n",
    "    \n",
    "    output.write(scaled_magnitude) #Writing the final output to the VideoWriter object\n",
    "\n",
    "source.release()\n",
    "output.release() "
   ]
  }
 ],
 "metadata": {
  "kernelspec": {
   "display_name": "Python 3 (ipykernel)",
   "language": "python",
   "name": "python3"
  },
  "language_info": {
   "codemirror_mode": {
    "name": "ipython",
    "version": 3
   },
   "file_extension": ".py",
   "mimetype": "text/x-python",
   "name": "python",
   "nbconvert_exporter": "python",
   "pygments_lexer": "ipython3",
   "version": "3.11.5"
  }
 },
 "nbformat": 4,
 "nbformat_minor": 5
}
