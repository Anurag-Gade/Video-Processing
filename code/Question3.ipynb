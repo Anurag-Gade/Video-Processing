{
 "cells": [
  {
   "cell_type": "markdown",
   "id": "5c749de1",
   "metadata": {},
   "source": [
    "**Digital Image Processing Assignment - Anurag Gade (2020A3TS1337H)**\n",
    "\n",
    "**QUESTION 3**"
   ]
  },
  {
   "cell_type": "markdown",
   "id": "4f246f2c",
   "metadata": {},
   "source": [
    "Write the Python programs to apply smoothing operation on each frame of the video\n",
    "using a 5 x 5 smoothing mask and a 9 x 9 Gaussian mask. You need to process the\n",
    "grayscale video. You can convert the color video into a grayscale video using\n",
    "BGR2Gray. The video file is given as assignment1_video.mp4."
   ]
  },
  {
   "cell_type": "code",
   "execution_count": 1,
   "id": "4451eaae",
   "metadata": {},
   "outputs": [],
   "source": [
    "#Importing the necessary libraries\n",
    "import numpy as np\n",
    "import cv2"
   ]
  },
  {
   "cell_type": "markdown",
   "id": "b10c5b29",
   "metadata": {},
   "source": [
    "**Part a - Smoothing Mask**"
   ]
  },
  {
   "cell_type": "code",
   "execution_count": 2,
   "id": "647213ed",
   "metadata": {},
   "outputs": [],
   "source": [
    "'''\n",
    "ANURAG GADE - 2020A3TS1337H\n",
    "QUESTION 3: Part a - Smoothing Mask\n",
    "'''\n",
    "\n",
    "#Specifying Paths\n",
    "input_path = 'assignment1_video.mp4'\n",
    "output_path = 'smoothing_kernel.mp4'\n",
    "\n",
    "#VideoCapture object\n",
    "source = cv2.VideoCapture(input_path)\n",
    "\n",
    "#Parameters such as frames per second, window width, and window height\n",
    "fps = source.get(cv2.CAP_PROP_FPS) \n",
    "width = int(source.get(cv2.CAP_PROP_FRAME_WIDTH))\n",
    "height = int(source.get(cv2.CAP_PROP_FRAME_HEIGHT))\n",
    "\n",
    "#Four character code (fourcc) for .mp4 file format\n",
    "fourcc = cv2.VideoWriter_fourcc(*'mp4v')\n",
    "#VideoWriter object\n",
    "output = cv2.VideoWriter(output_path, fourcc, fps, (width, height), isColor = False) \n",
    "\n",
    "#Initializing smoothing kernel\n",
    "kernel = np.ones((5,5), np.float32)/(5*5)\n",
    "\n",
    "while True:\n",
    "    \n",
    "    ret, frame = source.read()\n",
    "    if not ret:\n",
    "        break\n",
    "    \n",
    "    gray = cv2.cvtColor(frame, cv2.COLOR_BGR2GRAY) #Converting BGR frame to grayscale \n",
    "    \n",
    "    #Performing smoothing of the grayscale frame using the kernel initialized\n",
    "    smoothed = cv2.filter2D(gray, -1, kernel) \n",
    "    \n",
    "    output.write(smoothed) #Writing the smoothed frame to the VideoWriter object\n",
    "    \n",
    "source.release()\n",
    "output.release() "
   ]
  },
  {
   "cell_type": "markdown",
   "id": "be85497c",
   "metadata": {},
   "source": [
    "**Part b - Gaussian Mask** "
   ]
  },
  {
   "cell_type": "code",
   "execution_count": 3,
   "id": "2f99e01f",
   "metadata": {},
   "outputs": [],
   "source": [
    "'''\n",
    "ANURAG GADE - 2020A3TS1337H\n",
    "QUESTION 3: Part b - Gaussian Mask\n",
    "'''\n",
    "\n",
    "#Specifying Paths\n",
    "input_path = 'assignment1_video.mp4'\n",
    "output_path = 'gaussian_smoothing.mp4'\n",
    "\n",
    "#VideoCapture object\n",
    "source = cv2.VideoCapture(input_path)\n",
    "\n",
    "#Parameters such as frames per second, window width, and window height\n",
    "fps = source.get(cv2.CAP_PROP_FPS) \n",
    "width = int(source.get(cv2.CAP_PROP_FRAME_WIDTH))\n",
    "height = int(source.get(cv2.CAP_PROP_FRAME_HEIGHT))\n",
    "\n",
    "#Four character code (fourcc) for .mp4 file format\n",
    "fourcc = cv2.VideoWriter_fourcc(*'mp4v')\n",
    "#VideoWriter object\n",
    "output = cv2.VideoWriter(output_path, fourcc, fps, (width, height), isColor = False) \n",
    "\n",
    "while True:\n",
    "    \n",
    "    ret, frame = source.read()\n",
    "    if not ret:\n",
    "        break\n",
    "        \n",
    "    gray = cv2.cvtColor(frame, cv2.COLOR_BGR2GRAY) #Converting BGR frame to grayscale\n",
    "    \n",
    "    #Performing smoothing of the grayscale frame using a gaussian kernel\n",
    "    gaussian_smoothed = cv2.GaussianBlur(gray, (9,9), 15, 15)\n",
    "    \n",
    "    output.write(gaussian_smoothed) #Writing the smoothed frame to the VideoWriter object\n",
    "\n",
    "source.release()\n",
    "output.release()"
   ]
  }
 ],
 "metadata": {
  "kernelspec": {
   "display_name": "Python 3 (ipykernel)",
   "language": "python",
   "name": "python3"
  },
  "language_info": {
   "codemirror_mode": {
    "name": "ipython",
    "version": 3
   },
   "file_extension": ".py",
   "mimetype": "text/x-python",
   "name": "python",
   "nbconvert_exporter": "python",
   "pygments_lexer": "ipython3",
   "version": "3.11.5"
  }
 },
 "nbformat": 4,
 "nbformat_minor": 5
}
