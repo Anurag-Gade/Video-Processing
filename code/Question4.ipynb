{
 "cells": [
  {
   "cell_type": "markdown",
   "id": "6b41a06d",
   "metadata": {},
   "source": [
    "**Digital Image Processing Assignment - Anurag Gade (2020A3TS1337H)**\n",
    "\n",
    "**QUESTION 4**"
   ]
  },
  {
   "cell_type": "markdown",
   "id": "e1dc809f",
   "metadata": {},
   "source": [
    "Write the Python programs to apply image sharpening operation on each frame of the\n",
    "video using 7 x 7 Sobel and Laplacian masks. You need to process the grayscale video.\n",
    "You can convert the color video into a grayscale video using BGR2Gray. The video\n",
    "file is given as assignment1_video.mp4."
   ]
  },
  {
   "cell_type": "code",
   "execution_count": 1,
   "id": "ce20b952",
   "metadata": {},
   "outputs": [],
   "source": [
    "#Importing the necessary libraries\n",
    "import numpy as np\n",
    "import cv2"
   ]
  },
  {
   "cell_type": "markdown",
   "id": "cb688e29",
   "metadata": {},
   "source": [
    "**Part a - Sobel Sharpening**\n"
   ]
  },
  {
   "cell_type": "code",
   "execution_count": 7,
   "id": "b14604b0",
   "metadata": {},
   "outputs": [],
   "source": [
    "'''\n",
    "ANURAG GADE - 2020A3TS1337H\n",
    "QUESTION 4: Part a - Sobel Sharpening\n",
    "'''\n",
    "\n",
    "#Specifying Paths\n",
    "input_path = 'assignment1_video.mp4'\n",
    "output_path = 'sobel_sharpening.mp4'\n",
    "\n",
    "#VideoCapture object\n",
    "source = cv2.VideoCapture(input_path)\n",
    "\n",
    "#Parameters such as frames per second, window width, and window height\n",
    "fps = source.get(cv2.CAP_PROP_FPS) \n",
    "width = int(source.get(cv2.CAP_PROP_FRAME_WIDTH))\n",
    "height = int(source.get(cv2.CAP_PROP_FRAME_HEIGHT))\n",
    "\n",
    "#Four character code (fourcc) for .mp4 file format\n",
    "fourcc = cv2.VideoWriter_fourcc(*'mp4v')\n",
    "#VideoWriter object\n",
    "output = cv2.VideoWriter(output_path, fourcc, fps, (width, height), isColor = False) \n",
    "\n",
    "while True:\n",
    "    \n",
    "    ret, frame = source.read() \n",
    "    if not ret:\n",
    "        break\n",
    "        \n",
    "    gray = cv2.cvtColor(frame, cv2.COLOR_BGR2GRAY) #Converting BGR frame to grayscale\n",
    "    \n",
    "    #Sobel filters along x and y directions\n",
    "    sobelx = cv2.Sobel(gray, cv2.CV_8U, 1, 0, ksize=7)\n",
    "    sobely = cv2.Sobel(gray, cv2.CV_8U, 0, 1, ksize=7)\n",
    "    \n",
    "    #Combining both sobel filters\n",
    "    sobel_combined = cv2.bitwise_and(sobelx, sobely) \n",
    "    \n",
    "    #Enhancing the grayscale image using the combined Sobel filter\n",
    "    sobel_enhanced = gray + sobel_combined\n",
    "    output.write(sobel_enhanced) #Writing the enhanced frame to the VideoWriter object\n",
    "    \n",
    "source.release()\n",
    "output.release()"
   ]
  },
  {
   "cell_type": "markdown",
   "id": "dcbd89f5",
   "metadata": {},
   "source": [
    "**Part b - Laplacian Sharpening**\n",
    "\n"
   ]
  },
  {
   "cell_type": "code",
   "execution_count": 10,
   "id": "080e9cf5",
   "metadata": {},
   "outputs": [],
   "source": [
    "'''\n",
    "ANURAG GADE - 2020A3TS1337H\n",
    "QUESTION 4: Part b - Laplacian Sharpening\n",
    "'''\n",
    "\n",
    "#Specifying Paths\n",
    "input_path = 'assignment1_video.mp4'\n",
    "output_path = 'laplacian_sharpening.mp4'\n",
    "\n",
    "#VideoCapture object\n",
    "source = cv2.VideoCapture(input_path)\n",
    "\n",
    "#Parameters such as frames per second, window width, and window height\n",
    "fps = source.get(cv2.CAP_PROP_FPS) \n",
    "width = int(source.get(cv2.CAP_PROP_FRAME_WIDTH))\n",
    "height = int(source.get(cv2.CAP_PROP_FRAME_HEIGHT))\n",
    "\n",
    "#Four character code (fourcc) for .mp4 file format\n",
    "fourcc = cv2.VideoWriter_fourcc(*'mp4v')\n",
    "#VideoWriter object\n",
    "output = cv2.VideoWriter(output_path, fourcc, fps, (width, height), isColor = False) \n",
    "\n",
    "while True:\n",
    "    \n",
    "    ret, frame = source.read() \n",
    "    if not ret:\n",
    "        break\n",
    "        \n",
    "    gray = cv2.cvtColor(frame, cv2.COLOR_BGR2GRAY) #Converting BGR frame to grayscale\n",
    "    \n",
    "    #Initializing the laplcaian filter\n",
    "    laplacian = cv2.Laplacian(gray, cv2.CV_8U, ksize = 7)\n",
    "    \n",
    "    laplacian_combined = gray + laplacian #Combining with the grayscale frame for enhancement\n",
    "    \n",
    "    output.write(laplacian_combined) #Writing the sharpened frame to the VideoWriter object\n",
    "    \n",
    "source.release()\n",
    "output.release()"
   ]
  }
 ],
 "metadata": {
  "kernelspec": {
   "display_name": "Python 3 (ipykernel)",
   "language": "python",
   "name": "python3"
  },
  "language_info": {
   "codemirror_mode": {
    "name": "ipython",
    "version": 3
   },
   "file_extension": ".py",
   "mimetype": "text/x-python",
   "name": "python",
   "nbconvert_exporter": "python",
   "pygments_lexer": "ipython3",
   "version": "3.11.5"
  }
 },
 "nbformat": 4,
 "nbformat_minor": 5
}
