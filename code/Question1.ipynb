{
 "cells": [
  {
   "cell_type": "markdown",
   "id": "efadb14a",
   "metadata": {},
   "source": [
    "**Digital Image Processing Assignment - Anurag Gade (2020A3TS1337H)**\n",
    "\n",
    "**QUESTION 1**"
   ]
  },
  {
   "cell_type": "markdown",
   "id": "7e4ddb32",
   "metadata": {},
   "source": [
    "Write the programs to use nearest neighbor, bilinear, and bicubic-based interpolation methods to increase the number of pixels in each frame of the video. You need to process the grayscale video using interpolation methods. You can convert the color video into a grayscale video using BGR2Gray. Find the sizes of videos obtained after applying the neighbor, bilinear, and bicubic-based interpolation methods. The video file is given as assignment1_video.mp4."
   ]
  },
  {
   "cell_type": "code",
   "execution_count": 44,
   "id": "aa75f534",
   "metadata": {},
   "outputs": [],
   "source": [
    "#Importing the necessary libraries\n",
    "import numpy as np\n",
    "import cv2"
   ]
  },
  {
   "cell_type": "markdown",
   "id": "cfe9cd9d",
   "metadata": {},
   "source": [
    "**Part a - Interpolation: Nearest Neighbor**"
   ]
  },
  {
   "cell_type": "code",
   "execution_count": 45,
   "id": "64100c78",
   "metadata": {},
   "outputs": [],
   "source": [
    "'''\n",
    "ANURAG GADE - 2020A3TS1337H\n",
    "QUESTION 1: Part a - Nearest Neighbor Interpolation\n",
    "'''\n",
    "\n",
    "#Specifying Paths\n",
    "input_path = 'assignment1_video.mp4'\n",
    "output_path = 'nearest_neighbour_interpolation.mp4'\n",
    "\n",
    "#VideoCapture object\n",
    "source = cv2.VideoCapture(input_path)\n",
    "\n",
    "#Parameters such as frames per second, window width, and window height\n",
    "fps = source.get(cv2.CAP_PROP_FPS) \n",
    "new_width = 720\n",
    "new_height = 850\n",
    "\n",
    "#Four character code (fourcc) for .mp4 file format\n",
    "fourcc = cv2.VideoWriter_fourcc(*'mp4v')\n",
    "#VideoWriter object\n",
    "output = cv2.VideoWriter(output_path, fourcc, fps, (new_width, new_height), isColor = False)\n",
    "\n",
    "while True:\n",
    "    \n",
    "    ret, frame = source.read()\n",
    "    if not ret:\n",
    "        break\n",
    "        \n",
    "    gray = cv2.cvtColor(frame, cv2.COLOR_BGR2GRAY) #Converting BGR frame to grayscale \n",
    "    \n",
    "    #Resizing grayscale frame using nearest neighbor interpolation\n",
    "    resized = cv2.resize(gray, (new_width, new_height), interpolation = cv2.INTER_NEAREST) \n",
    "    \n",
    "    output.write(resized) #Writing the resized frame to the VideoWriter object\n",
    "    \n",
    "source.release()\n",
    "output.release()"
   ]
  },
  {
   "cell_type": "markdown",
   "id": "d1d016c4",
   "metadata": {},
   "source": [
    "**Part b - Interpolation: Bilinear**"
   ]
  },
  {
   "cell_type": "code",
   "execution_count": 46,
   "id": "a4506fa9",
   "metadata": {},
   "outputs": [],
   "source": [
    "'''\n",
    "ANURAG GADE - 2020A3TS1337H\n",
    "QUESTION 1: Part b - Bilinear Interpolation\n",
    "'''\n",
    "\n",
    "#Specifying Paths\n",
    "input_path = 'assignment1_video.mp4'\n",
    "output_path = 'bilinear_interpolation.mp4'\n",
    "\n",
    "#VideoCapture object\n",
    "source = cv2.VideoCapture(input_path)\n",
    "\n",
    "#Parameters such as frames per second, window width, and window height\n",
    "fps = source.get(cv2.CAP_PROP_FPS) \n",
    "new_width = 720\n",
    "new_height = 850\n",
    "\n",
    "#Four character code (fourcc) for .mp4 file format\n",
    "fourcc = cv2.VideoWriter_fourcc(*'mp4v')\n",
    "#VideoWriter object\n",
    "output = cv2.VideoWriter(output_path, fourcc, fps, (new_width, new_height), isColor = False)\n",
    "\n",
    "while True:\n",
    "    \n",
    "    ret, frame = source.read()\n",
    "    if not ret:\n",
    "        break\n",
    "        \n",
    "    gray = cv2.cvtColor(frame, cv2.COLOR_BGR2GRAY) #Converting BGR frame to grayscale \n",
    "    \n",
    "    #Resizing grayscale frame using bilinear interpolation\n",
    "    resized = cv2.resize(gray, (new_width, new_height), interpolation = cv2.INTER_LINEAR) \n",
    "    \n",
    "    output.write(resized) #Writing the resized frame to the VideoWriter object\n",
    "    \n",
    "source.release()\n",
    "output.release()"
   ]
  },
  {
   "cell_type": "markdown",
   "id": "90447af9",
   "metadata": {},
   "source": [
    "**Part c - Interpolation: Bicubic**"
   ]
  },
  {
   "cell_type": "code",
   "execution_count": 47,
   "id": "f0b3dd9d",
   "metadata": {},
   "outputs": [],
   "source": [
    "'''\n",
    "ANURAG GADE - 2020A3TS1337H\n",
    "QUESTION 1: Part c - Bicubic Interpolation\n",
    "'''\n",
    "\n",
    "#Specifying Paths\n",
    "input_path = 'assignment1_video.mp4'\n",
    "output_path = 'bicubic_interpolation.mp4'\n",
    "\n",
    "#VideoCapture object\n",
    "source = cv2.VideoCapture(input_path)\n",
    "\n",
    "#Parameters such as frames per second, window width, and window height\n",
    "fps = source.get(cv2.CAP_PROP_FPS) \n",
    "new_width = 720\n",
    "new_height = 850\n",
    "\n",
    "#Four character code (fourcc) for .mp4 file format\n",
    "fourcc = cv2.VideoWriter_fourcc(*'mp4v')\n",
    "#VideoWriter object\n",
    "output = cv2.VideoWriter(output_path, fourcc, fps, (new_width, new_height), isColor = False)\n",
    "\n",
    "while True:\n",
    "    \n",
    "    ret, frame = source.read()\n",
    "    if not ret:\n",
    "        break\n",
    "        \n",
    "    gray = cv2.cvtColor(frame, cv2.COLOR_BGR2GRAY) #Converting BGR frame to grayscale \n",
    "    \n",
    "    #Resizing grayscale frame using bicubic interpolation\n",
    "    resized = cv2.resize(gray, (new_width, new_height), interpolation = cv2.INTER_CUBIC) \n",
    "    \n",
    "    output.write(resized) #Writing the resized frame to the VideoWriter object\n",
    "    \n",
    "source.release()\n",
    "output.release()"
   ]
  },
  {
   "cell_type": "code",
   "execution_count": null,
   "id": "b9338a68",
   "metadata": {},
   "outputs": [],
   "source": []
  }
 ],
 "metadata": {
  "kernelspec": {
   "display_name": "Python 3 (ipykernel)",
   "language": "python",
   "name": "python3"
  },
  "language_info": {
   "codemirror_mode": {
    "name": "ipython",
    "version": 3
   },
   "file_extension": ".py",
   "mimetype": "text/x-python",
   "name": "python",
   "nbconvert_exporter": "python",
   "pygments_lexer": "ipython3",
   "version": "3.11.5"
  }
 },
 "nbformat": 4,
 "nbformat_minor": 5
}
